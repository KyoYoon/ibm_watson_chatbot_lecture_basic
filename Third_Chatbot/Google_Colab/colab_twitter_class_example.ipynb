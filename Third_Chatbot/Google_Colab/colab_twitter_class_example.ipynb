{
  "nbformat": 4,
  "nbformat_minor": 0,
  "metadata": {
    "colab": {
      "name": "colab_twitter_class_example.ipynb",
      "provenance": [],
      "collapsed_sections": []
    },
    "kernelspec": {
      "name": "python3",
      "display_name": "Python 3"
    }
  },
  "cells": [
    {
      "cell_type": "code",
      "metadata": {
        "id": "vd4nW3at-oV2",
        "colab_type": "code",
        "colab": {}
      },
      "source": [
        "import requests \n",
        "import base64"
      ],
      "execution_count": 0,
      "outputs": []
    },
    {
      "cell_type": "code",
      "metadata": {
        "id": "M0HLx3bt_dZw",
        "colab_type": "code",
        "colab": {}
      },
      "source": [
        "class TwitterInfo:\n",
        "\n",
        "  def __init__(self):\n",
        "    self.client_key = '59eI8467xSYcB3BQObzIKtZUi' # 여러분들의 Consumer API key를 넣으세요.\n",
        "    self.client_secret = 'DwYmzj5wwZtVp80HuF1wGsACYBcPR0oGOuiQjv78Ux72q3laIk' # 여러분들의 Consumer API secret key를 넣으세요.\n",
        "\n",
        "  def extractLastThreeTweetsFromTwitter(self, account_name):\n",
        "\n",
        "    key_secret = '{}:{}'.format(self.client_key, self.client_secret).encode('ascii')\n",
        "    b64_encoded_key = base64.b64encode(key_secret)\n",
        "    b64_encoded_key = b64_encoded_key.decode('ascii')\n",
        "\n",
        "    base_url = 'https://api.twitter.com/'\n",
        "    auth_url = '{}oauth2/token'.format(base_url)\n",
        "\n",
        "    auth_headers = {\n",
        "        'Authorization': 'Basic {}'.format(b64_encoded_key),\n",
        "        'Content-Type': 'application/x-www-form-urlencoded;charset=UTF-8'\n",
        "    }\n",
        "\n",
        "\n",
        "    auth_data = {\n",
        "        'grant_type': 'client_credentials'\n",
        "    }\n",
        "\n",
        "    auth_resp = requests.post(auth_url, headers=auth_headers, data=auth_data)\n",
        "\n",
        "    access_token = auth_resp.json()['access_token']\n",
        "    \n",
        "    search_headers = {\n",
        "        'Authorization': 'Bearer {}'.format(access_token)    \n",
        "    }\n",
        "\n",
        "    # account로 해당 사용자가 올린 tweet 중 마지막 세 개만 추출하라는 의미로 아래와 같은 URL을 만들었음  \n",
        "    search_url = '{}1.1/statuses/user_timeline.json?screen_name={}&count=3'.format(base_url, account_name)\n",
        "    search_resp = requests.get(search_url, headers=search_headers)\n",
        "    tweet_data = search_resp.json()\n",
        "\n",
        "    list_tweets =[]\n",
        "    \n",
        "    for i in range(len(tweet_data)): \n",
        "        # store the text of the tweet \n",
        "        text = tweet_data[i].get(\"text\")\n",
        "\n",
        "        # if the tweet contains an image add this to the tweet text\n",
        "        if(tweet_data[i].get(\"entities\").get(\"media\")):\n",
        "            image = tweet_data[i].get(\"entities\").get(\"media\")[0].get(\"media_url_https\")\n",
        "            width = tweet_data[i].get(\"entities\").get(\"media\")[0].get(\"sizes\").get(\"small\").get(\"w\")\n",
        "            height = tweet_data[i].get(\"entities\").get(\"media\")[0].get(\"sizes\").get(\"small\").get(\"h\")\n",
        "            url = tweet_data[i].get(\"entities\").get(\"media\")[0].get(\"url\")\n",
        "            final = text + \"<a href = '\" + url + \"'>\" + \"<img src = '\" +image + \"' height =\" + str(height) + \" width = \"+ str(width) + \">\" + \"</a>\"\n",
        "            list_tweets.append(final)\n",
        "        # if there is no image, then just save the text of the tweet \n",
        "        else:\n",
        "            list_tweets.append(text)\n",
        "\n",
        "    return list_tweets"
      ],
      "execution_count": 0,
      "outputs": []
    },
    {
      "cell_type": "code",
      "metadata": {
        "id": "o6qddwwuBDFB",
        "colab_type": "code",
        "colab": {}
      },
      "source": [
        "ti = TwitterInfo()"
      ],
      "execution_count": 0,
      "outputs": []
    },
    {
      "cell_type": "code",
      "metadata": {
        "id": "acpW94eoBwCe",
        "colab_type": "code",
        "colab": {
          "base_uri": "https://localhost:8080/",
          "height": 34
        },
        "outputId": "53ead37a-2402-457a-f277-b2e919b71a9e"
      },
      "source": [
        "account = \"@withMBC\" # IBM Cloud Function의 Action의 파라메터에서 Key와 Value로 들어갈 부분  \n",
        "\n",
        "account_name = account[1:] # IBM Cloud Function의 Action에서 변경될 부분 \n",
        "\n",
        "print(account_name)"
      ],
      "execution_count": 13,
      "outputs": [
        {
          "output_type": "stream",
          "text": [
            "withMBC\n"
          ],
          "name": "stdout"
        }
      ]
    },
    {
      "cell_type": "code",
      "metadata": {
        "id": "J4oCjbTbCwvn",
        "colab_type": "code",
        "colab": {}
      },
      "source": [
        "list_tweets = ti.extractLastThreeTweetsFromTwitter(account_name)"
      ],
      "execution_count": 0,
      "outputs": []
    },
    {
      "cell_type": "code",
      "metadata": {
        "id": "E5xi8sfeC9xG",
        "colab_type": "code",
        "colab": {
          "base_uri": "https://localhost:8080/",
          "height": 54
        },
        "outputId": "79211d08-1c57-4257-e86c-c38e3cb4ec37"
      },
      "source": [
        "print(list_tweets)"
      ],
      "execution_count": 15,
      "outputs": [
        {
          "output_type": "stream",
          "text": [
            "[\"벌써부터 케미 뿜뿜🌟\\n이강우 X 주서연 스틸 \\n\\n명랑 쾌활 로코 드라마\\n&lt;#하자있는인간들&gt;\\n곧 만나요 👋\\n\\n#오연서 #안재현 https://t.co/KDIBHn6nSC<a href = 'https://t.co/KDIBHn6nSC'><img src = 'https://pbs.twimg.com/media/EJZ5tTIUYAA9UsL.jpg' height =453 width = 680></a>\", \"[선공개] 기와장인 지니의 섬세한 풀하우스!\\n시작부터 리액션 과다 분비를 부르는 대저택😲🏠\\n\\n&lt;#구해줘홈즈&gt; 오늘 밤 10시 35분 방송✔️ https://t.co/ub4LL1Ua0K<a href = 'https://t.co/ub4LL1Ua0K'><img src = 'https://pbs.twimg.com/amplify_video_thumb/1195920201188954112/img/PmVg9E0S28x9gxA9.jpg' height =383 width = 680></a>\", \"[선공개] 노재범&amp;큰정현의 사랑보다 깊은 상처🎵\\n고음에서 저음으로 자유로운, 환승의 듀엣💞🎤\\n\\n&lt;#같이펀딩&gt; 오늘 저녁 6시 30분 방송✔️ https://t.co/ehnSfoEV1S<a href = 'https://t.co/ehnSfoEV1S'><img src = 'https://pbs.twimg.com/amplify_video_thumb/1195912505891028994/img/_hizDHtVUqN20RAN.jpg' height =383 width = 680></a>\"]\n"
          ],
          "name": "stdout"
        }
      ]
    },
    {
      "cell_type": "code",
      "metadata": {
        "id": "m90JK-HrDAXF",
        "colab_type": "code",
        "colab": {}
      },
      "source": [
        ""
      ],
      "execution_count": 0,
      "outputs": []
    }
  ]
}