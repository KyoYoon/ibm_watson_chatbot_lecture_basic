{
  "nbformat": 4,
  "nbformat_minor": 0,
  "metadata": {
    "colab": {
      "name": "colab_wiki_class_exmaple.ipynb",
      "provenance": [],
      "collapsed_sections": []
    },
    "kernelspec": {
      "name": "python3",
      "display_name": "Python 3"
    }
  },
  "cells": [
    {
      "cell_type": "code",
      "metadata": {
        "id": "j30ISi0b6VOg",
        "colab_type": "code",
        "colab": {}
      },
      "source": [
        "import urllib3\n",
        "import json\n",
        "import requests"
      ],
      "execution_count": 0,
      "outputs": []
    },
    {
      "cell_type": "code",
      "metadata": {
        "id": "eFgzVHyC6gjf",
        "colab_type": "code",
        "colab": {}
      },
      "source": [
        "class WikiQAInfo:\n",
        "\n",
        "  def __init__(self):\n",
        "    self.openApiURL = 'http://aiopen.etri.re.kr:8000/WikiQA'\n",
        "    self.accessKey = 'a54726fd-bc39-4197-a25e-83028b25f614' # 여러분들의 access key 를 넣으세요.\n",
        "    self.type = \"hybridqa\"\n",
        "\n",
        "  def extractSearchResultFromWiki(self, question):\n",
        "    \n",
        "    bot_answer = ''\n",
        "    \n",
        "    requestJson = {\n",
        "      \"access_key\": self.accessKey,\n",
        "      \"argument\": {\n",
        "      \"question\": question,\n",
        "        \"type\": self.type\n",
        "      }\n",
        "    }\n",
        "\n",
        "    http = urllib3.PoolManager()\n",
        "    response = http.request(\n",
        "      \"POST\",\n",
        "      self.openApiURL,\n",
        "      headers = {\"Content-Type\": \"application/json; charset=UTF-8\"},\n",
        "      body = json.dumps(requestJson)\n",
        "    )\n",
        "\n",
        "    r = response.data.decode('utf-8')\n",
        "    json_obj = json.loads(r)\n",
        "\n",
        "    # 4가지 경우를 다 대비해서 코드를 작성 \n",
        "    if response.status == 200 and json_obj['result'] == 0:\n",
        "\n",
        "      if len(json_obj['return_object']['WiKiInfo']['AnswerInfo']) == 0: # 아예 답변이 비어있는 경우 \n",
        "        bot_answer = \"문의하신 내용에 대해 답변을 찾을 수 없습니다.\"\n",
        "      else: # 답변이 있는 경우 - 제대로 된 답변, 이상한 답변, \"정의를 찾을 수 없습니다.\" 세 경우 중 하나\n",
        "        bot_answer = json_obj['return_object']['WiKiInfo']['AnswerInfo'][0]['answer']\n",
        "\n",
        "    else:\n",
        "      bot_answer = \"ETRI가 연결이 안되서 답변을 드리지 못하고 있습니다.\"\n",
        "\n",
        "    return bot_answer"
      ],
      "execution_count": 0,
      "outputs": []
    },
    {
      "cell_type": "code",
      "metadata": {
        "id": "T723KtycGAMz",
        "colab_type": "code",
        "colab": {}
      },
      "source": [
        "wqai = WikiQAInfo() # WikiQAInfo라는 class를 인스턴스화하여 wqai라는 instance를 생성  "
      ],
      "execution_count": 0,
      "outputs": []
    },
    {
      "cell_type": "code",
      "metadata": {
        "id": "OvzCK9vvGfxK",
        "colab_type": "code",
        "colab": {}
      },
      "source": [
        "question = \"나폴레옹은 누구야?\"\n",
        "\n",
        "bot_answer = wqai.extractSearchResultFromWiki(question)"
      ],
      "execution_count": 0,
      "outputs": []
    },
    {
      "cell_type": "code",
      "metadata": {
        "id": "0TtxEqEPG8Xr",
        "colab_type": "code",
        "colab": {
          "base_uri": "https://localhost:8080/",
          "height": 54
        },
        "outputId": "c4eff983-f766-4656-82e6-ca32e63437ba"
      },
      "source": [
        "print(bot_answer)"
      ],
      "execution_count": 18,
      "outputs": [
        {
          "output_type": "stream",
          "text": [
            "나폴레옹 3세 또는 샤를 루이 나폴레옹 보나파르트(프랑스어: Charles Louis Napoléon Bonaparte, 1808년 4월 20일 ~ 1873년 1월 9일)는 최초의 프랑스 대통령이자 두 번째 프랑스 황제이다. 프랑스의 마지막 세습군주이기도 하다. 나폴레옹 1세의 조카이자 의붓외손자로 1848년에 2월 혁명 이후 수립된 새로운 공화국에서 프랑스 대통령으로 선출된 후 쿠데타를 통해 제2제국을 선포하고 황제의 자리에 올랐다.\n"
          ],
          "name": "stdout"
        }
      ]
    },
    {
      "cell_type": "code",
      "metadata": {
        "id": "Fiyt1oqYG-6N",
        "colab_type": "code",
        "colab": {
          "base_uri": "https://localhost:8080/",
          "height": 34
        },
        "outputId": "ccc56456-dc3c-4cc2-b947-dd09160af716"
      },
      "source": [
        "question = \"abvfdddd\"\n",
        "\n",
        "bot_answer = wqai.extractSearchResultFromWiki(question)\n",
        "\n",
        "print(bot_answer)"
      ],
      "execution_count": 19,
      "outputs": [
        {
          "output_type": "stream",
          "text": [
            "문의하신 내용에 대해 답변을 찾을 수 없습니다.\n"
          ],
          "name": "stdout"
        }
      ]
    },
    {
      "cell_type": "code",
      "metadata": {
        "id": "6ehXa2GrInt0",
        "colab_type": "code",
        "colab": {
          "base_uri": "https://localhost:8080/",
          "height": 34
        },
        "outputId": "96593314-0e3a-496b-8ca4-a70e639c2ccc"
      },
      "source": [
        "question = \"#@!!! ㅌㅌㅌㅌ\"\n",
        "\n",
        "bot_answer = wqai.extractSearchResultFromWiki(question)\n",
        "\n",
        "print(bot_answer)"
      ],
      "execution_count": 20,
      "outputs": [
        {
          "output_type": "stream",
          "text": [
            "정의를 찾지 못했습니다.\n"
          ],
          "name": "stdout"
        }
      ]
    },
    {
      "cell_type": "code",
      "metadata": {
        "id": "x2mBfa3wJI_-",
        "colab_type": "code",
        "colab": {
          "base_uri": "https://localhost:8080/",
          "height": 34
        },
        "outputId": "6ae92d23-23ff-40df-c347-45e839e1f12a"
      },
      "source": [
        "question = \"나는 누구야?\"\n",
        "\n",
        "bot_answer = wqai.extractSearchResultFromWiki(question)\n",
        "\n",
        "print(bot_answer)"
      ],
      "execution_count": 21,
      "outputs": [
        {
          "output_type": "stream",
          "text": [
            "《나》는 1996년 8월 21일부터 1997년 11월 9일까지 총 57부작으로 방송된 문화방송 청소년 드라마이다. 고교 방송반을 주무대로 청소년들의 풋풋한 교실이야기와 그들의 꿈과 고민을 그렸다.\n"
          ],
          "name": "stdout"
        }
      ]
    },
    {
      "cell_type": "code",
      "metadata": {
        "id": "4uOnzu6YJncu",
        "colab_type": "code",
        "colab": {}
      },
      "source": [
        ""
      ],
      "execution_count": 0,
      "outputs": []
    }
  ]
}