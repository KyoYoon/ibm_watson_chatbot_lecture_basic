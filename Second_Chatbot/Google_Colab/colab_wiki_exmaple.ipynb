{
  "nbformat": 4,
  "nbformat_minor": 0,
  "metadata": {
    "colab": {
      "name": "colab_wiki_exmaple.ipynb",
      "provenance": [],
      "collapsed_sections": []
    },
    "kernelspec": {
      "name": "python3",
      "display_name": "Python 3"
    }
  },
  "cells": [
    {
      "cell_type": "code",
      "metadata": {
        "id": "j_V6rJxo3h6-",
        "colab_type": "code",
        "colab": {}
      },
      "source": [
        "import urllib3\n",
        "import json\n",
        "import re\n",
        "import pandas as pd\n",
        "import requests\n",
        "import numpy as np"
      ],
      "execution_count": 0,
      "outputs": []
    },
    {
      "cell_type": "code",
      "metadata": {
        "id": "MEYW7LHS30wt",
        "colab_type": "code",
        "colab": {
          "base_uri": "https://localhost:8080/",
          "height": 88
        },
        "outputId": "57446eaa-1568-4e96-91e6-17bb677bf33a"
      },
      "source": [
        "openApiURL = \"http://aiopen.etri.re.kr:8000/WikiQA\"\n",
        "accessKey = \"a54726fd-bc39-4197-a25e-83028b25f614\" # 여러분들의 access key 를 넣으세요.\n",
        "question = \"나폴레옹이 누구야?\"\n",
        "type = \"hybridqa\"\n",
        " \n",
        "requestJson = {\n",
        "\"access_key\": accessKey,\n",
        "\"argument\": {\n",
        "    \"question\": question,\n",
        "    \"type\": type\n",
        "}\n",
        "}\n",
        " \n",
        "http = urllib3.PoolManager()\n",
        "response = http.request(\n",
        "\"POST\",\n",
        "openApiURL,\n",
        "headers={\"Content-Type\": \"application/json; charset=UTF-8\"},\n",
        "body=json.dumps(requestJson)\n",
        ")\n",
        " \n",
        "print(\"[responseCode] \" + str(response.status))\n",
        "print(\"[responBody]\")\n",
        "print(str(response.data,\"utf-8\"))"
      ],
      "execution_count": 36,
      "outputs": [
        {
          "output_type": "stream",
          "text": [
            "[responseCode] 200\n",
            "[responBody]\n",
            "{\"result\":0,\"return_object\":{\"WiKiInfo\":{\"IRInfo\":[{\"wiki_title\":\"\",\"sent\":\"\",\"url\":\"\"}],\"AnswerInfo\":[{\"rank\":1.0,\"answer\":\"나폴레옹 3세 또는 샤를 루이 나폴레옹 보나파르트(프랑스어: Charles Louis Napoléon Bonaparte, 1808년 4월 20일 ~ 1873년 1월 9일)는 최초의 프랑스 대통령이자 두 번째 프랑스 황제이다. 프랑스의 마지막 세습군주이기도 하다. 나폴레옹 1세의 조카이자 의붓외손자로 1848년에 2월 혁명 이후 수립된 새로운 공화국에서 프랑스 대통령으로 선출된 후 쿠데타를 통해 제2제국을 선포하고 황제의 자리에 올랐다.\",\"confidence\":0.0,\"url\":[\"https://ko.wikipedia.org/wiki/나폴레옹_3세\"]}]}}}\n"
          ],
          "name": "stdout"
        }
      ]
    },
    {
      "cell_type": "code",
      "metadata": {
        "id": "HovYYmAjR1p0",
        "colab_type": "code",
        "colab": {
          "base_uri": "https://localhost:8080/",
          "height": 34
        },
        "outputId": "b3be6c2c-0b2c-43f2-81b2-ada14cee68a5"
      },
      "source": [
        "response.status # 응답이 정상적인지 확인 - 200이면 정상적인 것으로 간주한다. "
      ],
      "execution_count": 37,
      "outputs": [
        {
          "output_type": "execute_result",
          "data": {
            "text/plain": [
              "200"
            ]
          },
          "metadata": {
            "tags": []
          },
          "execution_count": 37
        }
      ]
    },
    {
      "cell_type": "code",
      "metadata": {
        "id": "UQN4NRMLR9Oq",
        "colab_type": "code",
        "colab": {}
      },
      "source": [
        "r = response.data.decode('utf-8')\n",
        "json_obj = json.loads(r)"
      ],
      "execution_count": 0,
      "outputs": []
    },
    {
      "cell_type": "code",
      "metadata": {
        "id": "PeoA6xb4SV8V",
        "colab_type": "code",
        "colab": {
          "base_uri": "https://localhost:8080/",
          "height": 34
        },
        "outputId": "328bb761-a917-43a9-fdbe-7718c66584bb"
      },
      "source": [
        "json_obj['result']"
      ],
      "execution_count": 39,
      "outputs": [
        {
          "output_type": "execute_result",
          "data": {
            "text/plain": [
              "0"
            ]
          },
          "metadata": {
            "tags": []
          },
          "execution_count": 39
        }
      ]
    },
    {
      "cell_type": "code",
      "metadata": {
        "id": "Ok-iD-eySZiQ",
        "colab_type": "code",
        "colab": {
          "base_uri": "https://localhost:8080/",
          "height": 139
        },
        "outputId": "f926adbb-c714-4f09-c86f-a3920eea28f5"
      },
      "source": [
        "json_obj"
      ],
      "execution_count": 40,
      "outputs": [
        {
          "output_type": "execute_result",
          "data": {
            "text/plain": [
              "{'result': 0,\n",
              " 'return_object': {'WiKiInfo': {'AnswerInfo': [{'answer': '나폴레옹 3세 또는 샤를 루이 나폴레옹 보나파르트(프랑스어: Charles Louis Napoléon Bonaparte, 1808년 4월 20일 ~ 1873년 1월 9일)는 최초의 프랑스 대통령이자 두 번째 프랑스 황제이다. 프랑스의 마지막 세습군주이기도 하다. 나폴레옹 1세의 조카이자 의붓외손자로 1848년에 2월 혁명 이후 수립된 새로운 공화국에서 프랑스 대통령으로 선출된 후 쿠데타를 통해 제2제국을 선포하고 황제의 자리에 올랐다.',\n",
              "     'confidence': 0.0,\n",
              "     'rank': 1.0,\n",
              "     'url': ['https://ko.wikipedia.org/wiki/나폴레옹_3세']}],\n",
              "   'IRInfo': [{'sent': '', 'url': '', 'wiki_title': ''}]}}}"
            ]
          },
          "metadata": {
            "tags": []
          },
          "execution_count": 40
        }
      ]
    },
    {
      "cell_type": "code",
      "metadata": {
        "id": "2kOda5cVSa8R",
        "colab_type": "code",
        "colab": {
          "base_uri": "https://localhost:8080/",
          "height": 54
        },
        "outputId": "23036956-f43e-4c37-c28f-7fd122fa4b04"
      },
      "source": [
        "json_obj['return_object']['WiKiInfo']['AnswerInfo'][0]['answer']"
      ],
      "execution_count": 41,
      "outputs": [
        {
          "output_type": "execute_result",
          "data": {
            "text/plain": [
              "'나폴레옹 3세 또는 샤를 루이 나폴레옹 보나파르트(프랑스어: Charles Louis Napoléon Bonaparte, 1808년 4월 20일 ~ 1873년 1월 9일)는 최초의 프랑스 대통령이자 두 번째 프랑스 황제이다. 프랑스의 마지막 세습군주이기도 하다. 나폴레옹 1세의 조카이자 의붓외손자로 1848년에 2월 혁명 이후 수립된 새로운 공화국에서 프랑스 대통령으로 선출된 후 쿠데타를 통해 제2제국을 선포하고 황제의 자리에 올랐다.'"
            ]
          },
          "metadata": {
            "tags": []
          },
          "execution_count": 41
        }
      ]
    },
    {
      "cell_type": "code",
      "metadata": {
        "id": "eTVnPeZ3URKh",
        "colab_type": "code",
        "colab": {}
      },
      "source": [
        ""
      ],
      "execution_count": 0,
      "outputs": []
    }
  ]
}