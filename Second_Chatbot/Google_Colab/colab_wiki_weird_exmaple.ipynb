{
  "nbformat": 4,
  "nbformat_minor": 0,
  "metadata": {
    "colab": {
      "name": "colab_wiki_weird_exmaple.ipynb",
      "provenance": [],
      "collapsed_sections": []
    },
    "kernelspec": {
      "name": "python3",
      "display_name": "Python 3"
    }
  },
  "cells": [
    {
      "cell_type": "code",
      "metadata": {
        "id": "cgiVpMjP9fN8",
        "colab_type": "code",
        "colab": {}
      },
      "source": [
        "import urllib3\n",
        "import json\n",
        "import re\n",
        "import pandas as pd\n",
        "import requests\n",
        "import numpy as np"
      ],
      "execution_count": 0,
      "outputs": []
    },
    {
      "cell_type": "code",
      "metadata": {
        "id": "UgA_UuPc9mC6",
        "colab_type": "code",
        "colab": {
          "base_uri": "https://localhost:8080/",
          "height": 68
        },
        "outputId": "9f4b8744-06e8-4a82-c575-d8941284fd94"
      },
      "source": [
        "openApiURL = \"http://aiopen.etri.re.kr:8000/WikiQA\"\n",
        "accessKey = \"a54726fd-bc39-4197-a25e-83028b25f614\" # 여러분들의 access key 를 넣으세요.\n",
        "question = \"#$@@#D ㄸㄸㄸ\"\n",
        "type = \"hybridqa\"\n",
        " \n",
        "requestJson = {\n",
        "\"access_key\": accessKey,\n",
        "\"argument\": {\n",
        "    \"question\": question,\n",
        "    \"type\": type\n",
        "}\n",
        "}\n",
        " \n",
        "http = urllib3.PoolManager()\n",
        "response = http.request(\n",
        "\"POST\",\n",
        "openApiURL,\n",
        "headers={\"Content-Type\": \"application/json; charset=UTF-8\"},\n",
        "body=json.dumps(requestJson)\n",
        ")\n",
        " \n",
        "print(\"[responseCode] \" + str(response.status))\n",
        "print(\"[responBody]\")\n",
        "print(str(response.data,\"utf-8\"))\n",
        "\n",
        "r = response.data.decode('utf-8')\n",
        "json_obj = json.loads(r)"
      ],
      "execution_count": 10,
      "outputs": [
        {
          "output_type": "stream",
          "text": [
            "[responseCode] 200\n",
            "[responBody]\n",
            "{\"result\":0,\"return_object\":{\"WiKiInfo\":{\"IRInfo\":[{\"wiki_title\":\"\",\"sent\":\"\",\"url\":\"\"}],\"AnswerInfo\":[{\"rank\":1.0,\"answer\":\"정의를 찾지 못했습니다.\",\"confidence\":0.0,\"url\":[\"\"]}]}}}\n"
          ],
          "name": "stdout"
        }
      ]
    },
    {
      "cell_type": "code",
      "metadata": {
        "id": "_Q8IidS69zAO",
        "colab_type": "code",
        "colab": {
          "base_uri": "https://localhost:8080/",
          "height": 34
        },
        "outputId": "14e73e7d-7464-4493-9158-da80a005af87"
      },
      "source": [
        "len(json_obj['return_object']['WiKiInfo']['AnswerInfo'])"
      ],
      "execution_count": 11,
      "outputs": [
        {
          "output_type": "execute_result",
          "data": {
            "text/plain": [
              "1"
            ]
          },
          "metadata": {
            "tags": []
          },
          "execution_count": 11
        }
      ]
    },
    {
      "cell_type": "code",
      "metadata": {
        "id": "DPToPa8jEOuF",
        "colab_type": "code",
        "colab": {
          "base_uri": "https://localhost:8080/",
          "height": 34
        },
        "outputId": "b8973225-48ff-4dfc-ff63-8e2af5bfceef"
      },
      "source": [
        "json_obj['return_object']['WiKiInfo']['AnswerInfo'][0]['answer']"
      ],
      "execution_count": 12,
      "outputs": [
        {
          "output_type": "execute_result",
          "data": {
            "text/plain": [
              "'정의를 찾지 못했습니다.'"
            ]
          },
          "metadata": {
            "tags": []
          },
          "execution_count": 12
        }
      ]
    },
    {
      "cell_type": "code",
      "metadata": {
        "id": "q0VdkOyYFuOc",
        "colab_type": "code",
        "colab": {}
      },
      "source": [
        ""
      ],
      "execution_count": 0,
      "outputs": []
    }
  ]
}